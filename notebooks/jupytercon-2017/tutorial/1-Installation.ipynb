{
 "cells": [
  {
   "cell_type": "markdown",
   "metadata": {
    "_datascience": {}
   },
   "source": [
    "### Environment for Tutorial\n",
    "\n",
    "**Everyone: Make sure you have a github account!**\n",
    "\n",
    "If you do not have one, please go to <a href=\"http://www.github.com\">www.github.com</a> and register.\n",
    "\n",
    "Once you are inside the jupytercon-2017 directory on your containers, please run git pull!\n",
    "\n",
    "### First 25 Attendees:\n",
    "\n",
    "\n",
    "* navigate to nsf.datascience.com\n",
    "* Login with your username and password.\n",
    "* Enter \"JupyterCon 2017\" Project.\n",
    "* Open your session\n",
    "![Session](assets/MySession.png)\n",
    "\n",
    "\n",
    "### Remaining Attendees:\n",
    "\n",
    "* Install git: https://git-scm.com/book/en/v2/Getting-Started-Installing-Git\n",
    "* Install Docker: https://docs.docker.com/engine/installation/#desktop\n",
    "* run these commands:\n",
    "    * git clone https://github.com/datascienceinc/jupytercon-2017.git\n",
    "    * docker run -it --rm -p 8888:8888 -v jupytercon-2017:/home/jovyan/jupytercon-2017 \n",
    "    * jupyter/datascience-notebook start.sh bash\n",
    "    * conda install -c conda-forge jupyter_contrib_nbextensions -y\n",
    "    * conda install -c conda-forge jupyter_nbextensions_configurator -y\n",
    "    * jupyter notebook    \n"
   ]
  },
  {
   "cell_type": "code",
   "execution_count": null,
   "metadata": {
    "collapsed": true
   },
   "outputs": [],
   "source": []
  }
 ],
 "metadata": {
  "_datascience": {},
  "kernelspec": {
   "display_name": "Python 3",
   "language": "python",
   "name": "python3"
  },
  "language_info": {
   "codemirror_mode": {
    "name": "ipython",
    "version": 3
   },
   "file_extension": ".py",
   "mimetype": "text/x-python",
   "name": "python",
   "nbconvert_exporter": "python",
   "pygments_lexer": "ipython3",
   "version": "3.5.3"
  }
 },
 "nbformat": 4,
 "nbformat_minor": 2
}
