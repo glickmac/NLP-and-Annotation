{
 "cells": [
  {
   "cell_type": "markdown",
   "metadata": {},
   "source": [
    "### This Tutorial:\n",
    "* *Before beginning, please run the cell below with \"run util/installers.ipynb\", it takes a few minutes*\n",
    "\n",
    "* <h4>Go over some key methods for intermediate natural language processing.</h4>\n",
    "* <h4>Uses SpaCy, ipywidgets, Sklearn, Keras, Skater</h4>\n",
    "* <h4>There will be some exercises for you to do.</h4>\n",
    "* <h4>Shut down notebooks between modules!<h4>\n",
    "* <h4>There is more material than I will be able to cover, please explore notebooks and work through exercises at your convenience.<h4>\n",
    "\n",
    "### About Me\n",
    "\n",
    "* Aaron Kramer\n",
    "* Senior Data Scientist at DataScience.com\n",
    "* Author of Skater Package\n",
    "* Oreilly series on SpaCy for NLP\n",
    "* I love: Bayesian Modeling, Natural Language, Deep Learning, Model Interpretation\n",
    "\n",
    "### Rough Agenda\n",
    "\n",
    "* 1:30-1:45: Set up\n",
    "* 1:45-2:30: Text Processing\n",
    "* 2:30-3:00: Word Embeddings\n",
    "* 3:00-3:30: Break\n",
    "* 3:30-4:00: POS Tagging\n",
    "* 4:00-5:00: Deep Learning\n",
    "\n",
    "##### Note we'll be skipping Dependency Parsing, but check them out!\n",
    "\n",
    "### Disclaimer:\n",
    "\n",
    "* Things you learn today may only partially apply to other languages (e.g. Chinese).\n",
    "* We may not cover all materials."
   ]
  },
  {
   "cell_type": "code",
   "execution_count": null,
   "metadata": {
    "collapsed": true
   },
   "outputs": [],
   "source": []
  }
 ],
 "metadata": {
  "kernelspec": {
   "display_name": "Python 3",
   "language": "python",
   "name": "python3"
  },
  "language_info": {
   "codemirror_mode": {
    "name": "ipython",
    "version": 3
   },
   "file_extension": ".py",
   "mimetype": "text/x-python",
   "name": "python",
   "nbconvert_exporter": "python",
   "pygments_lexer": "ipython3",
   "version": "3.5.3"
  }
 },
 "nbformat": 4,
 "nbformat_minor": 2
}
